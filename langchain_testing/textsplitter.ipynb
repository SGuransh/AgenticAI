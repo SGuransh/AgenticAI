{
 "cells": [
  {
   "cell_type": "code",
   "execution_count": 1,
   "id": "b1ee8bb2",
   "metadata": {},
   "outputs": [],
   "source": [
    "from langchain_community.document_loaders import PyPDFLoader\n",
    "loader = PyPDFLoader(\"./Report p_Hackers.pdf\")\n",
    "data = loader.load()"
   ]
  },
  {
   "cell_type": "code",
   "execution_count": 2,
   "id": "bc5d47b2",
   "metadata": {},
   "outputs": [
    {
     "data": {
      "text/plain": [
       "[Document(metadata={'producer': 'Skia/PDF m137 Google Docs Renderer', 'creator': 'PyPDF', 'creationdate': '', 'title': 'Report p_Hackers', 'source': './Report p_Hackers.pdf', 'total_pages': 1, 'page': 0, 'page_label': '1'}, page_content='Savills  Hackathon  2025  –  Commercial  Real  Estate  Market  Analysis  \\nIn  this  analysis,  we  examined  trends  and  microtrends  across  U.S.  commercial  real  estate  \\nmarkets\\n \\nto\\n \\ninform\\n \\nSavills’\\n \\nclient\\n \\nstrategies\\n \\non\\n \\nwhere,\\n \\nwhen,\\n \\nwhether,\\n \\nand\\n \\nhow\\n \\nto\\n \\nlease\\n \\noffice\\n \\nspace.\\n \\nUsing\\n \\nleasing\\n \\nactivity\\n \\ndata\\n \\ncombined\\n \\nwith\\n \\neconomic\\n \\nindicators\\n \\nlike\\n \\nunemployment\\n \\nrates\\n \\nand\\n \\nrent\\n \\nprices,\\n \\nour\\n \\ngoal\\n \\nwas\\n \\nto\\n \\nprovide\\n \\nactionable\\n \\ninsights\\n \\non\\n \\nmarket\\n \\ntiming,\\n \\nmomentum,\\n \\nand\\n \\nsector-specific\\n \\nbehavior.\\n \\nWe  developed  the  Market  Activity  Index  (MAI)  as  a  key  measure  of  leasing  momentum  within  \\neach\\n \\nmarket.\\n \\nThis\\n \\nindex\\n \\nis\\n \\ndefined\\n \\nas\\n \\nthe\\n \\nproportion\\n \\nof\\n \\nnew\\n \\nleased\\n \\nsquare\\n \\nfootage\\n \\nrelative\\n \\nto\\n \\ntotal\\n \\nleased\\n \\nsquare\\n \\nfootage,\\n \\nadjusted\\n \\nby\\n \\none\\n \\nminus\\n \\nthe\\n \\navailability\\n \\nproportion.\\n \\nA\\n \\nhigher\\n \\nMAI\\n \\nindicates\\n \\nmore\\n \\nactive\\n \\nleasing\\n \\nenvironments\\n \\nwith\\n \\nlower\\n \\navailability,\\n \\nsignaling\\n \\nstronger\\n \\ndemand.\\n \\nAlongside\\n \\nMAI,\\n \\nwe\\n \\nintroduced\\n \\na\\n \\nmarket\\n \\nsaturation\\n \\nmetric\\n,\\n \\ncalculated\\n \\nas\\n \\nthe\\n \\nshare\\n \\nof\\n \\nrenewals\\n \\nor\\n \\nexisting\\n \\ntenant\\n \\nleases\\n \\nrelative\\n \\nto\\n \\nthe\\n \\ntotal\\n \\nnumber\\n \\nof\\n \\nleases.\\n \\nThis\\n \\nprovides\\n \\ninsight\\n \\ninto\\n \\ntenant\\n \\nretention\\n \\nand\\n \\nmarket\\n \\nstability,\\n \\nhelping\\n \\ndistinguish\\n \\ngrowth-driven\\n \\nmarkets\\n \\nfrom\\n \\nthose\\n \\nwhere\\n \\nleasing\\n \\nactivity\\n \\nis\\n \\nprimarily\\n \\nrenewals.\\n \\nThe  analysis  was  extended  to  sector-specific  dynamics,  particularly  for  industries  such  as  \\nTechnology,\\n \\nAdvertising,\\n \\nMedia,\\n \\nand\\n \\nInformation\\n \\n(TAMI)\\n \\nand\\n \\nLegal\\n \\nServices.\\n \\nBy\\n \\ncomputing\\n \\nMAI\\n \\nand\\n \\nsaturation\\n \\nseparately\\n \\nfor\\n \\nthese\\n \\nsectors,\\n \\nwe\\n \\nwere\\n \\nable\\n \\nto\\n \\nhighlight\\n \\nnuanced\\n \\npatterns\\n \\nthat\\n \\nmay\\n \\nnot\\n \\nbe\\n \\nvisible\\n \\nat\\n \\nthe\\n \\nbroader\\n \\nmarket\\n \\nlevel.\\n \\nFor\\n \\ninstance,\\n \\nsome\\n \\nmarkets\\n \\nshowed\\n \\nhigh\\n \\nsaturation\\n \\nbut\\n \\nlow\\n \\nnew\\n \\nleasing\\n \\nactivity\\n \\nin\\n \\ncertain\\n \\nsectors,\\n \\nreflecting\\n \\nstability\\n \\nwithout\\n \\nsignificant\\n \\nexpansion.\\n \\nTo  advise  on  timing,  we  applied  ARIMA  time-series  forecasting  models  to  examine  the  \\nrelationship\\n \\nbetween\\n \\nunemployment\\n \\ntrends,\\n \\nrent\\n \\nprices,\\n \\nand\\n \\navailability.\\n \\nEconomic\\n \\ntheory\\n \\nsuggests\\n \\nthat\\n \\ndeclining\\n \\nunemployment\\n \\nsignals\\n \\nbusiness\\n \\ngrowth\\n \\nand,\\n \\nin\\n \\nturn,\\n \\nincreased\\n \\ndemand\\n \\nfor\\n \\noffice\\n \\nspace—a\\n \\npro-cyclical\\n \\npattern.\\n \\nOur\\n \\nforecasts\\n \\nindicate\\n \\nthat\\n \\nrent\\n \\nprices\\n \\nare\\n \\nlikely\\n \\nto\\n \\nrise\\n \\nthrough\\n \\nearly\\n \\n2025\\n \\nas\\n \\nunemployment\\n \\ncontinues\\n \\nto\\n \\nfall,\\n \\nmaking\\n \\nthe\\n \\npresent\\n \\nan\\n \\noptimal\\n \\nwindow\\n \\nto\\n \\nsecure\\n \\nleases\\n \\nbefore\\n \\nrates\\n \\nescalate.\\n \\nNotably,  some  markets  diverge  from  national  patterns.  Houston  emerged  as  a  strong  growth  \\nmarket\\n \\nwith\\n \\nsteady\\n \\nrent\\n \\nincreases,\\n \\nsupporting\\n \\nimmediate\\n \\nleasing\\n \\naction\\n \\nto\\n \\ncapture\\n \\ncurrent\\n \\nrates\\n \\nbefore\\n \\nfurther\\n \\ngrowth.\\n \\nIn\\n \\ncontrast,\\n \\nSan\\n \\nFrancisco\\n \\ncontinues\\n \\nto\\n \\nexhibit\\n \\nsoft\\n \\ndemand\\n \\nand\\n \\nfalling\\n \\nrents,\\n \\ndriven\\n \\nby\\n \\ntech\\n \\nsector\\n \\ncontraction\\n \\nand\\n \\nremote\\n \\nwork\\n \\ntrends.\\n \\nHere,\\n \\ndelaying\\n \\nleasing\\n \\ndecisions\\n \\nor\\n \\nnegotiating\\n \\nflexible\\n \\nterms\\n \\nis\\n \\nadvisable.\\n \\nFinally,  we  examined  the  relationship  between  leased  square  footage  growth  and  physical  \\noccupancy\\n \\nrates,\\n \\nproviding\\n \\nan\\n \\nadditional\\n \\nlayer\\n \\nof\\n \\ninsight\\n \\ninto\\n \\ntrue\\n \\ndemand\\n \\nbeyond\\n \\nheadline\\n \\nleasing\\n \\nactivity.\\n \\nThis\\n \\nmulti-angle\\n \\napproach\\n \\nsupports\\n \\ninformed,\\n \\ndata-driven\\n \\nleasing\\n \\ndecisions\\n \\ntailored\\n \\nto\\n \\nboth\\n \\nmarket\\n \\nconditions\\n \\nand\\n \\nsector-specific\\n \\ncontexts.')]"
      ]
     },
     "execution_count": 2,
     "metadata": {},
     "output_type": "execute_result"
    }
   ],
   "source": [
    "data"
   ]
  },
  {
   "cell_type": "code",
   "execution_count": 8,
   "id": "40056e83",
   "metadata": {},
   "outputs": [
    {
     "data": {
      "text/plain": [
       "[Document(metadata={'producer': 'Skia/PDF m137 Google Docs Renderer', 'creator': 'PyPDF', 'creationdate': '', 'title': 'Report p_Hackers', 'source': './Report p_Hackers.pdf', 'total_pages': 1, 'page': 0, 'page_label': '1'}, page_content='Savills  Hackathon  2025  –  Commercial  Real  Estate  Market  Analysis  \\nIn  this  analysis,  we  examined  trends  and  microtrends  across  U.S.  commercial  real  estate  \\nmarkets\\n \\nto\\n \\ninform\\n \\nSavills’\\n \\nclient\\n \\nstrategies\\n \\non\\n \\nwhere,\\n \\nwhen,\\n \\nwhether,\\n \\nand\\n \\nhow\\n \\nto\\n \\nlease\\n \\noffice\\n \\nspace.\\n \\nUsing\\n \\nleasing\\n \\nactivity\\n \\ndata\\n \\ncombined\\n \\nwith\\n \\neconomic\\n \\nindicators\\n \\nlike\\n \\nunemployment\\n \\nrates\\n \\nand\\n \\nrent\\n \\nprices,\\n \\nour\\n \\ngoal\\n \\nwas\\n \\nto\\n \\nprovide\\n \\nactionable\\n \\ninsights\\n \\non'),\n",
       " Document(metadata={'producer': 'Skia/PDF m137 Google Docs Renderer', 'creator': 'PyPDF', 'creationdate': '', 'title': 'Report p_Hackers', 'source': './Report p_Hackers.pdf', 'total_pages': 1, 'page': 0, 'page_label': '1'}, page_content='insights\\n \\non\\n \\nmarket\\n \\ntiming,\\n \\nmomentum,\\n \\nand\\n \\nsector-specific\\n \\nbehavior.\\n \\nWe  developed  the  Market  Activity  Index  (MAI)  as  a  key  measure  of  leasing  momentum  within  \\neach\\n \\nmarket.\\n \\nThis\\n \\nindex\\n \\nis\\n \\ndefined\\n \\nas\\n \\nthe\\n \\nproportion\\n \\nof\\n \\nnew\\n \\nleased\\n \\nsquare\\n \\nfootage\\n \\nrelative\\n \\nto\\n \\ntotal\\n \\nleased\\n \\nsquare\\n \\nfootage,\\n \\nadjusted\\n \\nby\\n \\none\\n \\nminus\\n \\nthe\\n \\navailability\\n \\nproportion.\\n \\nA\\n \\nhigher\\n \\nMAI\\n \\nindicates\\n \\nmore\\n \\nactive\\n \\nleasing\\n \\nenvironments\\n \\nwith'),\n",
       " Document(metadata={'producer': 'Skia/PDF m137 Google Docs Renderer', 'creator': 'PyPDF', 'creationdate': '', 'title': 'Report p_Hackers', 'source': './Report p_Hackers.pdf', 'total_pages': 1, 'page': 0, 'page_label': '1'}, page_content='with\\n \\nlower\\n \\navailability,\\n \\nsignaling\\n \\nstronger\\n \\ndemand.\\n \\nAlongside\\n \\nMAI,\\n \\nwe\\n \\nintroduced\\n \\na\\n \\nmarket\\n \\nsaturation\\n \\nmetric\\n,\\n \\ncalculated\\n \\nas\\n \\nthe\\n \\nshare\\n \\nof\\n \\nrenewals\\n \\nor\\n \\nexisting\\n \\ntenant\\n \\nleases\\n \\nrelative\\n \\nto\\n \\nthe\\n \\ntotal\\n \\nnumber\\n \\nof\\n \\nleases.\\n \\nThis\\n \\nprovides\\n \\ninsight\\n \\ninto\\n \\ntenant\\n \\nretention\\n \\nand\\n \\nmarket\\n \\nstability,\\n \\nhelping\\n \\ndistinguish\\n \\ngrowth-driven\\n \\nmarkets\\n \\nfrom\\n \\nthose\\n \\nwhere\\n \\nleasing\\n \\nactivity\\n \\nis\\n \\nprimarily\\n \\nrenewals.'),\n",
       " Document(metadata={'producer': 'Skia/PDF m137 Google Docs Renderer', 'creator': 'PyPDF', 'creationdate': '', 'title': 'Report p_Hackers', 'source': './Report p_Hackers.pdf', 'total_pages': 1, 'page': 0, 'page_label': '1'}, page_content='renewals.\\n \\nThe  analysis  was  extended  to  sector-specific  dynamics,  particularly  for  industries  such  as  \\nTechnology,\\n \\nAdvertising,\\n \\nMedia,\\n \\nand\\n \\nInformation\\n \\n(TAMI)\\n \\nand\\n \\nLegal\\n \\nServices.\\n \\nBy\\n \\ncomputing\\n \\nMAI\\n \\nand\\n \\nsaturation\\n \\nseparately\\n \\nfor\\n \\nthese\\n \\nsectors,\\n \\nwe\\n \\nwere\\n \\nable\\n \\nto\\n \\nhighlight\\n \\nnuanced\\n \\npatterns\\n \\nthat\\n \\nmay\\n \\nnot\\n \\nbe\\n \\nvisible\\n \\nat\\n \\nthe\\n \\nbroader\\n \\nmarket\\n \\nlevel.\\n \\nFor\\n \\ninstance,\\n \\nsome\\n \\nmarkets\\n \\nshowed\\n \\nhigh\\n \\nsaturation\\n \\nbut\\n \\nlow'),\n",
       " Document(metadata={'producer': 'Skia/PDF m137 Google Docs Renderer', 'creator': 'PyPDF', 'creationdate': '', 'title': 'Report p_Hackers', 'source': './Report p_Hackers.pdf', 'total_pages': 1, 'page': 0, 'page_label': '1'}, page_content='but\\n \\nlow\\n \\nnew\\n \\nleasing\\n \\nactivity\\n \\nin\\n \\ncertain\\n \\nsectors,\\n \\nreflecting\\n \\nstability\\n \\nwithout\\n \\nsignificant\\n \\nexpansion.\\n \\nTo  advise  on  timing,  we  applied  ARIMA  time-series  forecasting  models  to  examine  the  \\nrelationship\\n \\nbetween\\n \\nunemployment\\n \\ntrends,\\n \\nrent\\n \\nprices,\\n \\nand\\n \\navailability.\\n \\nEconomic\\n \\ntheory\\n \\nsuggests\\n \\nthat\\n \\ndeclining\\n \\nunemployment\\n \\nsignals\\n \\nbusiness\\n \\ngrowth\\n \\nand,\\n \\nin\\n \\nturn,\\n \\nincreased\\n \\ndemand\\n \\nfor\\n \\noffice\\n \\nspace—a\\n \\npro-cyclical'),\n",
       " Document(metadata={'producer': 'Skia/PDF m137 Google Docs Renderer', 'creator': 'PyPDF', 'creationdate': '', 'title': 'Report p_Hackers', 'source': './Report p_Hackers.pdf', 'total_pages': 1, 'page': 0, 'page_label': '1'}, page_content='pro-cyclical\\n \\npattern.\\n \\nOur\\n \\nforecasts\\n \\nindicate\\n \\nthat\\n \\nrent\\n \\nprices\\n \\nare\\n \\nlikely\\n \\nto\\n \\nrise\\n \\nthrough\\n \\nearly\\n \\n2025\\n \\nas\\n \\nunemployment\\n \\ncontinues\\n \\nto\\n \\nfall,\\n \\nmaking\\n \\nthe\\n \\npresent\\n \\nan\\n \\noptimal\\n \\nwindow\\n \\nto\\n \\nsecure\\n \\nleases\\n \\nbefore\\n \\nrates\\n \\nescalate.\\n \\nNotably,  some  markets  diverge  from  national  patterns.  Houston  emerged  as  a  strong  growth  \\nmarket\\n \\nwith\\n \\nsteady\\n \\nrent\\n \\nincreases,\\n \\nsupporting\\n \\nimmediate\\n \\nleasing\\n \\naction\\n \\nto\\n \\ncapture\\n \\ncurrent'),\n",
       " Document(metadata={'producer': 'Skia/PDF m137 Google Docs Renderer', 'creator': 'PyPDF', 'creationdate': '', 'title': 'Report p_Hackers', 'source': './Report p_Hackers.pdf', 'total_pages': 1, 'page': 0, 'page_label': '1'}, page_content='capture\\n \\ncurrent\\n \\nrates\\n \\nbefore\\n \\nfurther\\n \\ngrowth.\\n \\nIn\\n \\ncontrast,\\n \\nSan\\n \\nFrancisco\\n \\ncontinues\\n \\nto\\n \\nexhibit\\n \\nsoft\\n \\ndemand\\n \\nand\\n \\nfalling\\n \\nrents,\\n \\ndriven\\n \\nby\\n \\ntech\\n \\nsector\\n \\ncontraction\\n \\nand\\n \\nremote\\n \\nwork\\n \\ntrends.\\n \\nHere,\\n \\ndelaying\\n \\nleasing\\n \\ndecisions\\n \\nor\\n \\nnegotiating\\n \\nflexible\\n \\nterms\\n \\nis\\n \\nadvisable.\\n \\nFinally,  we  examined  the  relationship  between  leased  square  footage  growth  and  physical  \\noccupancy\\n \\nrates,\\n \\nproviding\\n \\nan\\n \\nadditional\\n \\nlayer\\n \\nof'),\n",
       " Document(metadata={'producer': 'Skia/PDF m137 Google Docs Renderer', 'creator': 'PyPDF', 'creationdate': '', 'title': 'Report p_Hackers', 'source': './Report p_Hackers.pdf', 'total_pages': 1, 'page': 0, 'page_label': '1'}, page_content='layer\\n \\nof\\n \\ninsight\\n \\ninto\\n \\ntrue\\n \\ndemand\\n \\nbeyond\\n \\nheadline\\n \\nleasing\\n \\nactivity.\\n \\nThis\\n \\nmulti-angle\\n \\napproach\\n \\nsupports\\n \\ninformed,\\n \\ndata-driven\\n \\nleasing\\n \\ndecisions\\n \\ntailored\\n \\nto\\n \\nboth\\n \\nmarket\\n \\nconditions\\n \\nand\\n \\nsector-specific\\n \\ncontexts.')]"
      ]
     },
     "execution_count": 8,
     "metadata": {},
     "output_type": "execute_result"
    }
   ],
   "source": [
    "from langchain_text_splitters import RecursiveCharacterTextSplitter\n",
    "text_splitter = RecursiveCharacterTextSplitter(\n",
    "    chunk_size=500,\n",
    "    chunk_overlap=20,\n",
    ")\n",
    "final_document = text_splitter.split_documents(data)\n",
    "final_document"
   ]
  },
  {
   "cell_type": "code",
   "execution_count": 7,
   "id": "55839438",
   "metadata": {},
   "outputs": [
    {
     "data": {
      "text/plain": [
       "8"
      ]
     },
     "execution_count": 7,
     "metadata": {},
     "output_type": "execute_result"
    }
   ],
   "source": [
    "len(final_document)"
   ]
  },
  {
   "cell_type": "code",
   "execution_count": null,
   "id": "c68a46f2",
   "metadata": {},
   "outputs": [],
   "source": []
  }
 ],
 "metadata": {
  "kernelspec": {
   "display_name": "Python 3",
   "language": "python",
   "name": "python3"
  },
  "language_info": {
   "codemirror_mode": {
    "name": "ipython",
    "version": 3
   },
   "file_extension": ".py",
   "mimetype": "text/x-python",
   "name": "python",
   "nbconvert_exporter": "python",
   "pygments_lexer": "ipython3",
   "version": "3.10.18"
  }
 },
 "nbformat": 4,
 "nbformat_minor": 5
}
